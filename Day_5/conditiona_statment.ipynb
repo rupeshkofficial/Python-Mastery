{
 "cells": [
  {
   "cell_type": "code",
   "execution_count": 3,
   "metadata": {},
   "outputs": [],
   "source": [
    "number_in_sem = 45\n",
    "\n",
    "if number_in_sem >= 60:\n",
    "   pass"
   ]
  },
  {
   "cell_type": "code",
   "execution_count": 5,
   "metadata": {},
   "outputs": [
    {
     "data": {
      "text/plain": [
       "False"
      ]
     },
     "execution_count": 5,
     "metadata": {},
     "output_type": "execute_result"
    }
   ],
   "source": [
    "number_in_sem >= 60"
   ]
  },
  {
   "cell_type": "code",
   "execution_count": 7,
   "metadata": {},
   "outputs": [
    {
     "name": "stdout",
     "output_type": "stream",
     "text": [
      "First Class\n"
     ]
    }
   ],
   "source": [
    "number = 60\n",
    "if number >= 60:\n",
    "   print(\"First Class\")"
   ]
  },
  {
   "cell_type": "code",
   "execution_count": 4,
   "metadata": {},
   "outputs": [
    {
     "name": "stdout",
     "output_type": "stream",
     "text": [
      "Third Class\n"
     ]
    }
   ],
   "source": [
    "number = int(input())\n",
    "if number >= 60:\n",
    "   print(\"First Class\")\n",
    "elif number >=45:\n",
    "   print(\"second Class\")\n",
    "elif number >=30:\n",
    "   print(\"Third Class\")\n",
    "else:\n",
    "   print(\"Fail\")"
   ]
  },
  {
   "cell_type": "code",
   "execution_count": 6,
   "metadata": {},
   "outputs": [
    {
     "data": {
      "text/plain": [
       "95"
      ]
     },
     "execution_count": 6,
     "metadata": {},
     "output_type": "execute_result"
    }
   ],
   "source": [
    "int(input())"
   ]
  },
  {
   "cell_type": "code",
   "execution_count": 9,
   "metadata": {},
   "outputs": [
    {
     "name": "stdout",
     "output_type": "stream",
     "text": [
      "45 is Odd\n"
     ]
    }
   ],
   "source": [
    "number = int(input())\n",
    "if number % 2 == 0:\n",
    "    print(number, \"is Even\")\n",
    "else:\n",
    "    print(number, \"is Odd\")"
   ]
  },
  {
   "cell_type": "code",
   "execution_count": 11,
   "metadata": {},
   "outputs": [
    {
     "name": "stdout",
     "output_type": "stream",
     "text": [
      "Slow Down!\n"
     ]
    }
   ],
   "source": [
    "light = input(\"Enter Light Condition\")\n",
    "if light == \"red\":\n",
    "    print(\"Stop Now!\")\n",
    "elif light == \"green\":\n",
    "    print(\"Go Fast!\")\n",
    "else:\n",
    "    print(\"Slow Down!\")\n",
    "   "
   ]
  },
  {
   "cell_type": "code",
   "execution_count": 15,
   "metadata": {},
   "outputs": [
    {
     "name": "stdout",
     "output_type": "stream",
     "text": [
      "User Doesn't Exist!\n"
     ]
    }
   ],
   "source": [
    "username  = input(\"Enter Your Username\")\n",
    "password = input(\"Enter Your Password\")\n",
    "\n",
    "if username == \"rupesh\" and password == \"rupesh123\":\n",
    "    print(\"Login Allowed!\")\n",
    "elif username !=\"rupesh\":\n",
    "    print(\"User Doesn't Exist!\")\n",
    "elif password != \"rupesh123\":\n",
    "    print(\"Incorrect assword!\")\n",
    "else:\n",
    "    print(\"Complete Input is Wrong!\")"
   ]
  }
 ],
 "metadata": {
  "kernelspec": {
   "display_name": "Python 3",
   "language": "python",
   "name": "python3"
  },
  "language_info": {
   "codemirror_mode": {
    "name": "ipython",
    "version": 3
   },
   "file_extension": ".py",
   "mimetype": "text/x-python",
   "name": "python",
   "nbconvert_exporter": "python",
   "pygments_lexer": "ipython3",
   "version": "3.12.6"
  }
 },
 "nbformat": 4,
 "nbformat_minor": 2
}
